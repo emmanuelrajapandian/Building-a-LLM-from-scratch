{
 "cells": [
  {
   "cell_type": "code",
   "execution_count": 1,
   "metadata": {},
   "outputs": [
    {
     "name": "stdout",
     "output_type": "stream",
     "text": [
      "torch version: 2.3.0\n",
      "tiktoken version: 0.7.0\n"
     ]
    }
   ],
   "source": [
    "from importlib.metadata import version\n",
    "\n",
    "print(\"torch version:\", version(\"torch\"))\n",
    "print(\"tiktoken version:\", version(\"tiktoken\"))"
   ]
  },
  {
   "cell_type": "code",
   "execution_count": 2,
   "metadata": {},
   "outputs": [],
   "source": [
    "import tiktoken\n",
    "import torch\n",
    "from torch.utils.data import Dataset, DataLoader\n",
    "\n",
    "\n",
    "class GPTDatasetV1(Dataset):\n",
    "    def __init__(self, txt, tokenizer, max_length, stride):\n",
    "        self.input_ids = []\n",
    "        self.target_ids = []\n",
    "\n",
    "        # Tokenize the entire text\n",
    "        token_ids = tokenizer.encode(txt, allowed_special={\"<|endoftext|>\"})\n",
    "\n",
    "        # Use a sliding window to chunk the book into overlapping sequences of max_length\n",
    "        for i in range(0, len(token_ids) - max_length, stride):\n",
    "            input_chunk = token_ids[i:i + max_length]\n",
    "            target_chunk = token_ids[i + 1: i + max_length + 1]\n",
    "            self.input_ids.append(torch.tensor(input_chunk))\n",
    "            self.target_ids.append(torch.tensor(target_chunk))\n",
    "\n",
    "    def __len__(self):\n",
    "        return len(self.input_ids)\n",
    "\n",
    "    def __getitem__(self, idx):\n",
    "        return self.input_ids[idx], self.target_ids[idx]\n"
   ]
  },
  {
   "cell_type": "code",
   "execution_count": 3,
   "metadata": {},
   "outputs": [],
   "source": [
    "def create_dataloader_v1(txt, batch_size=4, max_length=256, \n",
    "                         stride=128, shuffle=True, drop_last=True, num_workers=0):\n",
    "    # Initialize the tokenizer\n",
    "    tokenizer = tiktoken.get_encoding(\"gpt2\")\n",
    "\n",
    "    # Create dataset\n",
    "    dataset = GPTDatasetV1(txt, tokenizer, max_length, stride)\n",
    "\n",
    "    # Create dataloader\n",
    "    dataloader = DataLoader(\n",
    "        dataset, batch_size=batch_size, shuffle=shuffle, drop_last=drop_last, num_workers=num_workers)\n",
    "\n",
    "    return dataloader"
   ]
  },
  {
   "cell_type": "code",
   "execution_count": 5,
   "metadata": {},
   "outputs": [],
   "source": [
    "with open(\"the_verdict.txt\", \"r\", encoding=\"utf-8\") as f:\n",
    "    raw_text = f.read()\n",
    "\n",
    "tokenizer = tiktoken.get_encoding(\"gpt2\")\n",
    "encoded_text = tokenizer.encode(raw_text)\n",
    "\n",
    "vocab_size = 50257\n",
    "output_dim = 256\n",
    "context_length = 1024"
   ]
  },
  {
   "cell_type": "code",
   "execution_count": 6,
   "metadata": {},
   "outputs": [],
   "source": [
    "token_embedding_layer = torch.nn.Embedding(vocab_size, output_dim)\n",
    "pos_embedding_layer = torch.nn.Embedding(context_length, output_dim)\n",
    "\n",
    "max_length = 4\n",
    "dataloader = create_dataloader_v1(raw_text, batch_size=8, max_length=max_length, stride=max_length)"
   ]
  },
  {
   "cell_type": "code",
   "execution_count": 7,
   "metadata": {},
   "outputs": [],
   "source": [
    "for batch in dataloader:\n",
    "    x, y = batch\n",
    "\n",
    "    token_embeddings = token_embedding_layer(x)\n",
    "    pos_embeddings = pos_embedding_layer(torch.arange(max_length))\n",
    "\n",
    "    input_embeddings = token_embeddings + pos_embeddings"
   ]
  },
  {
   "cell_type": "code",
   "execution_count": 8,
   "metadata": {},
   "outputs": [
    {
     "name": "stdout",
     "output_type": "stream",
     "text": [
      "torch.Size([8, 4, 256])\n"
     ]
    }
   ],
   "source": [
    "print(input_embeddings.shape)"
   ]
  },
  {
   "cell_type": "code",
   "execution_count": 9,
   "metadata": {},
   "outputs": [
    {
     "data": {
      "text/plain": [
       "tensor([[[ 2.3382, -1.7522, -2.0773,  ..., -0.1440, -0.2070, -0.4838],\n",
       "         [ 0.6653,  0.4494, -0.3510,  ...,  1.2541,  1.2214, -0.5419],\n",
       "         [-3.3838,  0.2860, -0.4439,  ..., -0.0320,  0.7809,  1.5377],\n",
       "         [ 1.9994,  0.8666, -1.2923,  ..., -0.1789, -0.3764, -1.9076]],\n",
       "\n",
       "        [[ 2.1198, -2.1118,  1.7682,  ..., -1.5383, -1.4287,  0.0290],\n",
       "         [-2.0133, -0.3005,  0.6647,  ..., -0.4801,  1.1836,  1.5033],\n",
       "         [-1.6962,  1.5344, -0.3799,  ...,  2.0998,  0.0510,  0.6014],\n",
       "         [-0.3120,  0.5061, -0.8563,  ...,  0.5484,  0.4307, -2.1614]],\n",
       "\n",
       "        [[ 0.8409, -1.7826,  0.2284,  ..., -3.2577, -0.8239,  4.3431],\n",
       "         [-0.1485, -0.5909, -0.8105,  ...,  1.1793,  0.8376,  0.5975],\n",
       "         [-4.4060,  0.0050, -0.1375,  ...,  0.2086,  1.9397,  1.8661],\n",
       "         [ 1.6852, -0.2966,  0.0622,  ...,  0.9011,  0.0909,  0.7951]],\n",
       "\n",
       "        ...,\n",
       "\n",
       "        [[ 0.7858, -1.2190, -0.3808,  ..., -3.3698, -1.4500,  0.2198],\n",
       "         [-1.9619, -2.7606,  0.5168,  ..., -1.3483, -0.1211,  1.7150],\n",
       "         [-3.0163, -0.2578, -0.1559,  ...,  0.3588, -0.8148,  4.7002],\n",
       "         [-0.2332, -0.0574, -0.4911,  ...,  0.0631, -0.5828, -0.9821]],\n",
       "\n",
       "        [[ 1.9244, -1.4495,  1.3423,  ..., -2.7276,  0.3683,  0.5046],\n",
       "         [-0.4601,  0.2555,  0.2581,  ...,  1.2410, -0.6419, -0.3395],\n",
       "         [-2.7884,  0.5580, -3.2558,  ..., -0.3314,  2.4604,  2.4405],\n",
       "         [-0.9660,  0.3600, -1.3438,  ...,  0.7513,  0.0240, -2.4139]],\n",
       "\n",
       "        [[ 1.7328,  0.0641, -0.1119,  ..., -1.7477, -1.2458, -0.4400],\n",
       "         [-0.1562, -0.2686, -1.5547,  ..., -0.7730,  0.4479, -1.1011],\n",
       "         [-0.8872, -0.2014,  0.3815,  ..., -0.0368,  1.3585,  1.7346],\n",
       "         [ 1.1985,  1.5224, -1.8499,  ...,  0.1021,  0.9153, -2.1271]]],\n",
       "       grad_fn=<AddBackward0>)"
      ]
     },
     "execution_count": 9,
     "metadata": {},
     "output_type": "execute_result"
    }
   ],
   "source": [
    "input_embeddings"
   ]
  },
  {
   "cell_type": "code",
   "execution_count": 10,
   "metadata": {},
   "outputs": [
    {
     "data": {
      "text/plain": [
       "tensor([[ 0.8839, -0.8150,  0.1588,  ..., -1.9092, -0.0515,  0.4311],\n",
       "        [-0.6916, -0.8457, -0.1641,  ..., -0.0773,  0.2458,  0.7202],\n",
       "        [-1.9277,  0.4331, -0.8021,  ...,  0.7815,  0.9387,  1.6611],\n",
       "        [ 0.0754,  0.3200, -0.7103,  ...,  0.2162, -0.2053, -1.4257]],\n",
       "       grad_fn=<EmbeddingBackward0>)"
      ]
     },
     "execution_count": 10,
     "metadata": {},
     "output_type": "execute_result"
    }
   ],
   "source": [
    "pos_embeddings"
   ]
  }
 ],
 "metadata": {
  "kernelspec": {
   "display_name": "Python 3",
   "language": "python",
   "name": "python3"
  },
  "language_info": {
   "codemirror_mode": {
    "name": "ipython",
    "version": 3
   },
   "file_extension": ".py",
   "mimetype": "text/x-python",
   "name": "python",
   "nbconvert_exporter": "python",
   "pygments_lexer": "ipython3",
   "version": "3.9.6"
  }
 },
 "nbformat": 4,
 "nbformat_minor": 2
}
